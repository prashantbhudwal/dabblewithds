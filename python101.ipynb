{
  "nbformat": 4,
  "nbformat_minor": 0,
  "metadata": {
    "colab": {
      "provenance": [],
      "authorship_tag": "ABX9TyMzpvfeau+m6dl6VBtiVYVa",
      "include_colab_link": true
    },
    "kernelspec": {
      "name": "python3",
      "display_name": "Python 3"
    },
    "language_info": {
      "name": "python"
    }
  },
  "cells": [
    {
      "cell_type": "markdown",
      "metadata": {
        "id": "view-in-github",
        "colab_type": "text"
      },
      "source": [
        "<a href=\"https://colab.research.google.com/github/prashantbhudwal/dabblewithds/blob/main/python101.ipynb\" target=\"_parent\"><img src=\"https://colab.research.google.com/assets/colab-badge.svg\" alt=\"Open In Colab\"/></a>"
      ]
    },
    {
      "cell_type": "code",
      "execution_count": 9,
      "metadata": {
        "id": "pfVJpbEZmFFz",
        "outputId": "1f368cf4-bdc2-4521-c262-cea665c73ce8",
        "colab": {
          "base_uri": "https://localhost:8080/"
        }
      },
      "outputs": [
        {
          "output_type": "execute_result",
          "data": {
            "text/plain": [
              "['hallway', 11.25, 'kitchen', 18.0, 'living room', 20.0]"
            ]
          },
          "metadata": {},
          "execution_count": 9
        }
      ],
      "source": [
        "areas = [\"hallway\", 11.25, \"kitchen\", 18.0, \"living room\", 20.0, \"bedroom\", 10.75, \"bathroom\", 9.50]\n",
        "downstairs = areas[0:6]\n",
        "downstairs"
      ]
    },
    {
      "cell_type": "code",
      "source": [
        "upstairs = areas[6:10]\n",
        "upstairs"
      ],
      "metadata": {
        "id": "r3NjWLN0U5If",
        "outputId": "1a31cd8e-f214-4357-d05c-ebb028e80b3b",
        "colab": {
          "base_uri": "https://localhost:8080/"
        }
      },
      "execution_count": 11,
      "outputs": [
        {
          "output_type": "execute_result",
          "data": {
            "text/plain": [
              "['bedroom', 10.75, 'bathroom', 9.5]"
            ]
          },
          "metadata": {},
          "execution_count": 11
        }
      ]
    },
    {
      "cell_type": "code",
      "source": [
        "print(upstairs)"
      ],
      "metadata": {
        "id": "iFaLr4C2U_5t",
        "outputId": "d8f91a13-be92-4587-b318-8ca27c837271",
        "colab": {
          "base_uri": "https://localhost:8080/"
        }
      },
      "execution_count": 13,
      "outputs": [
        {
          "output_type": "stream",
          "name": "stdout",
          "text": [
            "['bedroom', 10.75, 'bathroom', 9.5]\n"
          ]
        }
      ]
    },
    {
      "cell_type": "code",
      "source": [
        "print(downstairs)"
      ],
      "metadata": {
        "id": "UF411Y7_VEKn",
        "outputId": "c2b6c63c-20b2-4b78-e110-0e1da53d7156",
        "colab": {
          "base_uri": "https://localhost:8080/"
        }
      },
      "execution_count": 14,
      "outputs": [
        {
          "output_type": "stream",
          "name": "stdout",
          "text": [
            "['hallway', 11.25, 'kitchen', 18.0, 'living room', 20.0]\n"
          ]
        }
      ]
    },
    {
      "cell_type": "code",
      "source": [],
      "metadata": {
        "id": "SCIrhkHSVGWa"
      },
      "execution_count": null,
      "outputs": []
    }
  ]
}